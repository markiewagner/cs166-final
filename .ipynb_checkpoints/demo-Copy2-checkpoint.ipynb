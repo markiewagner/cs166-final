{
 "cells": [
  {
   "cell_type": "code",
   "execution_count": 9,
   "metadata": {},
   "outputs": [],
   "source": [
    "from ipywidgets import interact\n",
    "import numpy as np\n",
    "from matplotlib import pyplot as plt\n",
    "import math\n",
    "import numpy as np\n",
    "import hashlib\n",
    "import scipy.stats as stats\n",
    "import json \n",
    "import nbinteract as nbi\n"
   ]
  },
  {
   "cell_type": "code",
   "execution_count": 10,
   "metadata": {},
   "outputs": [],
   "source": [
    "def square(x):\n",
    "    return x * x"
   ]
  },
  {
   "cell_type": "code",
   "execution_count": 11,
   "metadata": {},
   "outputs": [
    {
     "data": {
      "application/vnd.jupyter.widget-view+json": {
       "model_id": "d143d84dba6f41d28769ead6a33755b1",
       "version_major": 2,
       "version_minor": 0
      },
      "text/plain": [
       "interactive(children=(IntSlider(value=10, description='x', max=30, min=-10), Output()), _dom_classes=('widget-…"
      ]
     },
     "metadata": {},
     "output_type": "display_data"
    }
   ],
   "source": [
    "interact(square, x=10);\n"
   ]
  },
  {
   "cell_type": "code",
   "execution_count": 12,
   "metadata": {
    "code_folding": [
     0,
     1
    ]
   },
   "outputs": [],
   "source": [
    "class CountMinSketch:\n",
    "    def __init__(self, eps, delta):\n",
    "        self.eps = eps\n",
    "        self.delta = delta\n",
    "        self.w = math.ceil(np.exp(1) / eps)\n",
    "        self.d = math.ceil(np.log(1 / delta))\n",
    "        self.tables = np.zeros((self.d, self.w))\n",
    "        self.backup = {}\n",
    "\n",
    "    def compute_hash(self, value, table_no):\n",
    "        fn = hashlib.md5()\n",
    "        inp = str(value) + str(0) + str(table_no)\n",
    "        fn.update(inp.encode())\n",
    "        out = int(fn.hexdigest(), 16)\n",
    "        return out % self.w\n",
    "\n",
    "    def count(self, value):\n",
    "        if str(value) in self.backup: \n",
    "            self.backup[str(value)] = self.backup[str(value)] + 1\n",
    "        else:\n",
    "            self.backup[str(value)] = 1\n",
    "        for i in range(self.d):\n",
    "            j = self.compute_hash(value, i)\n",
    "            self.tables[i][j] = self.tables[i][j] + 1\n",
    "\n",
    "    def estimate(self, value):\n",
    "        ests = []\n",
    "        for i in range(self.d):\n",
    "            j = self.compute_hash(value, i)\n",
    "            ests.append(self.tables[i][j])\n",
    "        return min(ests)\n",
    "\n",
    "    def real_estimate(self, value):\n",
    "        if str(value) in self.backup: return self.backup[str(value)]\n",
    "        return -1\n",
    "\n",
    "    def compute_size(self):\n",
    "        size = 0\n",
    "        for key in self.backup:\n",
    "            size += abs(self.backup[key])\n",
    "        return size\n",
    "\n",
    "    def save_counts(self, count_filename='counts.txt', actual_filename='backups.txt'):\n",
    "        np.savetxt(count_filename, self.tables)\n",
    "        with open(actual_filename, 'w') as fp: json.dump(self.backup, fp)\n",
    "\n",
    "    def load_counts(self, count_filename='counts.txt', actual_filename='backups.txt'):\n",
    "        with open(actual_filename, 'r') as fp: \n",
    "            temp = json.load(fp)\n",
    "            self.backup = temp\n",
    "        self.tables = np.loadtxt(count_filename)"
   ]
  },
  {
   "cell_type": "code",
   "execution_count": 13,
   "metadata": {
    "code_folding": [
     0
    ]
   },
   "outputs": [],
   "source": [
    "def load_data(cms, data):\n",
    "  for el in data:\n",
    "    cms.count(el)"
   ]
  },
  {
   "cell_type": "code",
   "execution_count": 14,
   "metadata": {
    "code_folding": [
     0
    ]
   },
   "outputs": [],
   "source": [
    "def generate_sample(n=1000, dist='uniform', loc=0, scale=100, lambda_=5, s=100):\n",
    "    if dist == 'uniform':\n",
    "        float_sample = stats.uniform.rvs(loc, scale, n)\n",
    "        return [int(el) for el in float_sample]\n",
    "    if dist == 'zipf':\n",
    "        float_sample = stats.zipf.rvs(a, size=n)\n",
    "        return [(el) for el in float_sample]\n",
    "    if dist == 'exp':\n",
    "        float_sample = planck.rvs(lambda_, size=n)\n",
    "        return [int(el) for el in float_sample]\n",
    "    if dist == 'lognorm':\n",
    "        float_sample = lognorm.rvs(s=s, size=n)\n",
    "        return [int(el) for el in float_sample]\n",
    "    if dist == 'geometric':\n",
    "        float_sample =  geom.rvs(p, size=n)\n",
    "        return [int(el) for el in float_sample]\n",
    "    elif dist == 'normal':\n",
    "        float_sample = stats.norm.rvs(loc, scale, n)\n",
    "        return [int(el) for el in float_sample]\n",
    "    else:\n",
    "        return -1"
   ]
  },
  {
   "cell_type": "code",
   "execution_count": 15,
   "metadata": {
    "code_folding": [
     3,
     17,
     35
    ]
   },
   "outputs": [],
   "source": [
    "# VISUALIZE ERROR PROBABILITY VS DELTA\n",
    "\n",
    "# compute empirical probability of error exceeding the threshold\n",
    "def compute_error_prob(cms, data, n):\n",
    "  err = []\n",
    "  for el in data:\n",
    "    err.append(cms.estimate(el) - cms.real_estimate(el))\n",
    "  avg_err = sum(err) / len(err)\n",
    "  max_err = max(err)\n",
    "  exceed = 0\n",
    "  for el in err:\n",
    "    if el > cms.eps * n:\n",
    "      exceed += 1\n",
    "  p = exceed / len(err)\n",
    "  return p, avg_err, max_err, err\n",
    "\n",
    "# run experiments on 10 values of delta interpolated between (min_delta, max_delta) and compute array of corresponding error probabilities\n",
    "def error_prob_vs_delta(n=100000, eps=0.4, min_delta=0.01, max_delta=0.1):\n",
    "  deltas = np.linspace(min_delta, max_delta, 10).tolist()\n",
    "  # deltas = [0.05, 0.1, 0.15, 0.2, 0.25, 0.3, 0.35, 0.4, 0.45, 0.5, 0.55, 0.6, 0.65, 0.7, 0.75, 0.8, 0.85, 0.9, 0.95, 1]\n",
    "  ps = []\n",
    "  for delta in deltas:\n",
    "    probs = 0\n",
    "    # Average probabilities across 3 trials\n",
    "    for i in range(3):\n",
    "      cms = CountMinSketch(eps, delta)\n",
    "      dt = generate_sample(n)\n",
    "      load_data(cms, dt)\n",
    "      p, avg_err, max_err, err = compute_error_prob(cms, dt, n)\n",
    "      probs += p\n",
    "    probs /= 3\n",
    "    ps.append(probs)\n",
    "  return deltas, ps\n",
    "\n",
    "# graphing helper function\n",
    "def graph_error_prob_vs_delta(deltas, ps, filename=\"p_vs_delta.png\"):\n",
    "  plt.scatter(deltas, ps)\n",
    "  plt.show()\n",
    "\n",
    "# actual code to run experiment:\n",
    "# deltas, ps = error_prob_vs_delta()\n",
    "# graph_error_prob_vs_delta(deltas, ps)"
   ]
  },
  {
   "cell_type": "code",
   "execution_count": 16,
   "metadata": {},
   "outputs": [
    {
     "name": "stdout",
     "output_type": "stream",
     "text": [
      "Average Error: 0.115\n",
      "Maximum Error: 7.0\n",
      "Acceptable Threshold: 10.0\n",
      "Proportion of Errors Exceeding Threshold: 0.0\n"
     ]
    },
    {
     "data": {
      "image/png": "[encoded data removed]",
      "text/plain": [
       "<Figure size 432x288 with 1 Axes>"
      ]
     },
     "metadata": {
      "needs_background": "light"
     },
     "output_type": "display_data"
    }
   ],
   "source": [
    "# VISUALIZE HOW ERROR DISTRIBUTION CHANGES WITH EPS, DELTA, N ON UNIFORM DATA\n",
    "eps = 0.01\n",
    "delta = 0.05\n",
    "n = 1000\n",
    "threshold = eps * n\n",
    "sample = generate_sample(n=n)\n",
    "\n",
    "cms = CountMinSketch(eps, delta)\n",
    "load_data(cms, sample)\n",
    "\n",
    "p, avg_err, max_err, err = compute_error_prob(cms, sample, n)\n",
    "\n",
    "print(\"Average Error: \" + str(avg_err))\n",
    "print(\"Maximum Error: \" + str(max_err))\n",
    "print(\"Acceptable Threshold: \" + str(threshold))\n",
    "print(\"Proportion of Errors Exceeding Threshold: \" + str(p))\n",
    "\n",
    "plt.scatter(sample, err)\n",
    "plt.plot([min(sample), max(sample)], [threshold, threshold], color='red')\n",
    "plt.show()"
   ]
  },
  {
   "cell_type": "code",
   "execution_count": 17,
   "metadata": {},
   "outputs": [],
   "source": [
    "def generate_sample(n=1000, dist='uniform', loc=0, scale=10000, lambda_=5, s=1, a=6.5):\n",
    "    print(dist)\n",
    "    if dist == 'uniform':\n",
    "        float_sample = stats.uniform.rvs(loc, scale, n)\n",
    "        return [int(el) for el in float_sample]\n",
    "    if dist == 'zipf':\n",
    "        float_sample = stats.zipf.rvs(a, size=n)\n",
    "        return [int(el) for el in float_sample]\n",
    "    if dist == 'exp':\n",
    "        float_sample = stats.planck.rvs(lambda_, size=n)\n",
    "        return [int(el) for el in float_sample]\n",
    "    if dist == 'lognorm':\n",
    "        float_sample = stats.lognorm.rvs(s=s, size=n)\n",
    "        return [int(el) for el in float_sample]\n",
    "    if dist == 'geometric':\n",
    "        float_sample =  stats.geom.rvs(p, size=n)\n",
    "        return [int(el) for el in float_sample]\n",
    "    elif dist == 'normal':\n",
    "        float_sample = stats.norm.rvs(loc, scale, n)\n",
    "        return [int(el) for el in float_sample]\n",
    "    else:\n",
    "        return -1"
   ]
  },
  {
   "cell_type": "code",
   "execution_count": 18,
   "metadata": {},
   "outputs": [],
   "source": [
    "def plot_uniform(sample, eps, delta):\n",
    "    print(eps, delta)\n",
    "    eps = float(eps)\n",
    "    delta = float(delta)\n",
    "    # VISUALIZE HOW ERROR DISTRIBUTION CHANGES WITH EPS, DELTA, N ON UNIFORM DATA\n",
    "    threshold = eps * n\n",
    "    #sample = generate_sample(n=n)\n",
    "\n",
    "    cms = CountMinSketch(eps, delta)\n",
    "    load_data(cms, sample)\n",
    "\n",
    "    p, avg_err, max_err, err = compute_error_prob(cms, sample, n)\n",
    "\n",
    "    print(\"Average Error: \" + str(avg_err))\n",
    "    print(\"Maximum Error: \" + str(max_err))\n",
    "    print(\"Acceptable Threshold: \" + str(threshold))\n",
    "    print(\"Proportion of Errors Exceeding Threshold: \" + str(p))\n",
    "\n",
    "    #plt.scatter(sample, err)\n",
    "    #plt.plot([min(sample), max(sample)], [threshold, threshold], color='red')\n",
    "    return err\n",
    "    #plt.show()"
   ]
  },
  {
   "cell_type": "code",
   "execution_count": null,
   "metadata": {},
   "outputs": [],
   "source": []
  },
  {
   "cell_type": "code",
   "execution_count": null,
   "metadata": {},
   "outputs": [],
   "source": []
  },
  {
   "cell_type": "code",
   "execution_count": 19,
   "metadata": {},
   "outputs": [
    {
     "data": {
      "application/vnd.jupyter.widget-view+json": {
       "model_id": "3a0a88b2c73048799dab03d774d06590",
       "version_major": 2,
       "version_minor": 0
      },
      "text/plain": [
       "VBox(children=(interactive(children=(IntSlider(value=1000, description='n', max=2000, min=1), FloatSlider(valu…"
      ]
     },
     "metadata": {},
     "output_type": "display_data"
    }
   ],
   "source": [
    "n = 1000\n",
    "#sample = generate_sample(n=n, dist=\"normal\")\n",
    "\n",
    "\n",
    "def get_sample(eps, delta, distribution, n): \n",
    "    return generate_sample(n=n, dist=distribution)\n",
    "\n",
    "\n",
    "\n",
    "nbi.scatter(get_sample, plot_uniform, n=(1,2000), eps=(0.01,1, 0.01), delta=(0.01, 1, 0.01), distribution={'normal': \"normal\", 'zipf': 'zipf', 'uniform': 'uniform', 'exp':'exp', 'geometric':'geometric', 'lognorm':'lognorm'})\n"
   ]
  },
  {
   "cell_type": "code",
   "execution_count": 20,
   "metadata": {},
   "outputs": [],
   "source": [
    "def hist_response_function(mean, sd, size=1000):\n",
    "    '''\n",
    "    Returns 1000 values picked at random from the normal\n",
    "    distribution with the mean and SD given.\n",
    "    '''\n",
    "    print(mean, sd)\n",
    "    return np.random.normal(loc=mean, scale=sd, size=1000)"
   ]
  },
  {
   "cell_type": "code",
   "execution_count": 21,
   "metadata": {
    "scrolled": true
   },
   "outputs": [
    {
     "ename": "TypeError",
     "evalue": "scatter() missing 1 required positional argument: 'y_fn'",
     "output_type": "error",
     "traceback": [
      "\u001b[0;31m---------------------------------------------------------------------------\u001b[0m",
      "\u001b[0;31mTypeError\u001b[0m                                 Traceback (most recent call last)",
      "\u001b[0;32m<ipython-input-21-c8548bde3693>\u001b[0m in \u001b[0;36m<module>\u001b[0;34m\u001b[0m\n\u001b[0;32m----> 1\u001b[0;31m \u001b[0mnbi\u001b[0m\u001b[0;34m.\u001b[0m\u001b[0mscatter\u001b[0m\u001b[0;34m(\u001b[0m\u001b[0mhist_response_function\u001b[0m\u001b[0;34m,\u001b[0m \u001b[0mmean\u001b[0m\u001b[0;34m=\u001b[0m\u001b[0;34m(\u001b[0m\u001b[0;36m0\u001b[0m\u001b[0;34m,\u001b[0m \u001b[0;36m10\u001b[0m\u001b[0;34m)\u001b[0m\u001b[0;34m,\u001b[0m \u001b[0msd\u001b[0m\u001b[0;34m=\u001b[0m\u001b[0;34m(\u001b[0m\u001b[0;36m0\u001b[0m\u001b[0;34m,\u001b[0m \u001b[0;36m2.0\u001b[0m\u001b[0;34m,\u001b[0m \u001b[0;36m0.2\u001b[0m\u001b[0;34m)\u001b[0m\u001b[0;34m)\u001b[0m\u001b[0;34m\u001b[0m\u001b[0;34m\u001b[0m\u001b[0m\n\u001b[0m",
      "\u001b[0;32m/Library/Frameworks/Python.framework/Versions/3.7/lib/python3.7/site-packages/nbinteract/plotting.py\u001b[0m in \u001b[0;36mcheck_options\u001b[0;34m(*args, **kwargs)\u001b[0m\n\u001b[1;32m    166\u001b[0m                 )\n\u001b[1;32m    167\u001b[0m \u001b[0;34m\u001b[0m\u001b[0m\n\u001b[0;32m--> 168\u001b[0;31m             \u001b[0;32mreturn\u001b[0m \u001b[0mf\u001b[0m\u001b[0;34m(\u001b[0m\u001b[0;34m*\u001b[0m\u001b[0margs\u001b[0m\u001b[0;34m,\u001b[0m \u001b[0;34m**\u001b[0m\u001b[0mkwargs\u001b[0m\u001b[0;34m)\u001b[0m\u001b[0;34m\u001b[0m\u001b[0;34m\u001b[0m\u001b[0m\n\u001b[0m\u001b[1;32m    169\u001b[0m \u001b[0;34m\u001b[0m\u001b[0m\n\u001b[1;32m    170\u001b[0m         \u001b[0;32mreturn\u001b[0m \u001b[0mcheck_options\u001b[0m\u001b[0;34m\u001b[0m\u001b[0;34m\u001b[0m\u001b[0m\n",
      "\u001b[0;31mTypeError\u001b[0m: scatter() missing 1 required positional argument: 'y_fn'"
     ]
    }
   ],
   "source": [
    "nbi.scatter(hist_response_function, mean=(0, 10), sd=(0, 2.0, 0.2))\n"
   ]
  },
  {
   "cell_type": "code",
   "execution_count": null,
   "metadata": {},
   "outputs": [],
   "source": []
  },
  {
   "cell_type": "code",
   "execution_count": null,
   "metadata": {},
   "outputs": [],
   "source": []
  },
  {
   "cell_type": "markdown",
   "metadata": {},
   "source": [
    "# Begin demo"
   ]
  },
  {
   "cell_type": "markdown",
   "metadata": {},
   "source": [
    "VISUALIZE HOW ERROR CHANGES BY COMPRESSING THE NORMAL DISTRIBUTION"
   ]
  },
  {
   "cell_type": "code",
   "execution_count": 39,
   "metadata": {},
   "outputs": [],
   "source": [
    "def generate_new_sample(eps, delta, distribution, n): \n",
    "    global sample\n",
    "    sample = generate_sample(n=n, dist=distribution)\n",
    "    return sample\n",
    "def get_sample(eps, delta, distribution, n): \n",
    "    return sample"
   ]
  },
  {
   "cell_type": "code",
   "execution_count": 23,
   "metadata": {},
   "outputs": [
    {
     "name": "stdout",
     "output_type": "stream",
     "text": [
      "normal\n",
      "Average Error: 11.0064\n",
      "Maximum Error: 81.0\n",
      "Acceptable Threshold: 100.0\n",
      "Proportion of Errors Exceeding Threshold: 0.0\n"
     ]
    },
    {
     "name": "stderr",
     "output_type": "stream",
     "text": [
      "/Library/Frameworks/Python.framework/Versions/3.7/lib/python3.7/site-packages/ipykernel_launcher.py:35: UserWarning: Matplotlib is currently using module://ipykernel.pylab.backend_inline, which is a non-GUI backend, so cannot show the figure.\n"
     ]
    },
    {
     "data": {
      "image/png": "[encoded data removed]",
      "text/plain": [
       "<Figure size 1080x288 with 3 Axes>"
      ]
     },
     "metadata": {
      "needs_background": "light"
     },
     "output_type": "display_data"
    }
   ],
   "source": [
    "eps = 0.01\n",
    "delta = 0.05\n",
    "n = 10000\n",
    "threshold = eps * n\n",
    "\n",
    "mean = 0\n",
    "sd = 100\n",
    "sample = generate_sample(n=n, dist='normal', loc=mean, scale=sd)\n",
    "\n",
    "cms = CountMinSketch(eps, delta)\n",
    "load_data(cms, sample)\n",
    "\n",
    "p, avg_err, max_err, err = compute_error_prob(cms, sample, n)\n",
    "\n",
    "print(\"Average Error: \" + str(avg_err))\n",
    "print(\"Maximum Error: \" + str(max_err))\n",
    "print(\"Acceptable Threshold: \" + str(threshold))\n",
    "print(\"Proportion of Errors Exceeding Threshold: \" + str(p))\n",
    "\n",
    "fig, (f1, f2, f3) = plt.subplots(1,3)\n",
    "fig.set_size_inches(15, 4)\n",
    "\n",
    "f1.scatter(sample, err, label=\"Errors\")\n",
    "f1.plot([min(sample), max(sample)], [threshold, threshold], color='red', label=\"Threshold\")\n",
    "f1.legend()\n",
    "f1.title.set_text(\"Scatterplot of Errors\")\n",
    "f1.set(xlabel=\"Error\", ylabel=\"Data Point\")\n",
    "\n",
    "f2.hist(sample)\n",
    "f2.title.set_text(\"Distribution of Data\")\n",
    "f2.set(ylabel=\"Count\", xlabel=\"Data Point\")\n",
    "\n",
    "f3.hist(err)\n",
    "f3.title.set_text(\"Ditribution of errors\")\n",
    "f3.set(ylabel=\"Count\", xlabel=\"Error Magnitude\")\n",
    "fig.savefig(\"normal2.png\")\n",
    "fig.show()"
   ]
  },
  {
   "cell_type": "code",
   "execution_count": 61,
   "metadata": {},
   "outputs": [],
   "source": [
    "def get_sample(eps, delta, distribution, n): \n",
    "    return generate_sample(n=n, dist=distribution)\n",
    "\n",
    "def get_y_errors(xs, n, eps, delta, distribution):\n",
    "    n = n\n",
    "    threshold = eps * n\n",
    "\n",
    "    mean = 0\n",
    "    sd = 100\n",
    "    sample = xs\n",
    "\n",
    "    cms = CountMinSketch(eps, delta)\n",
    "    load_data(cms, sample)\n",
    "\n",
    "    p, avg_err, max_err, err = compute_error_prob(cms, sample, n)\n",
    "\n",
    "    print(\"Average Error: \" + str(avg_err))\n",
    "    print(\"Maximum Error: \" + str(max_err))\n",
    "    print(\"Acceptable Threshold: \" + str(threshold))\n",
    "    print(\"Proportion of Errors Exceeding Threshold: \" + str(p))\n",
    "\n",
    "#     fig, (f1, f2, f3) = plt.subplots(1,3)\n",
    "#     fig.set_size_inches(15, 4)\n",
    "\n",
    "#     f1.scatter(sample, err, label=\"Errors\")\n",
    "#     f1.plot([min(sample), max(sample)], [threshold, threshold], color='red', label=\"Threshold\")\n",
    "#     f1.legend()\n",
    "#     f1.title.set_text(\"Scatterplot of Errors\")\n",
    "#     f1.set(xlabel=\"Error\", ylabel=\"Data Point\")\n",
    "    return err\n",
    "    \n",
    "def get_data_for_hist_dist(xs, n, eps, delta, distribution):\n",
    "    n = n\n",
    "    threshold = eps * n\n",
    "\n",
    "    mean = 0\n",
    "    sd = 100\n",
    "    sample = xs\n",
    "\n",
    "    cms = CountMinSketch(eps, delta)\n",
    "    load_data(cms, sample)\n",
    "\n",
    "    p, avg_err, max_err, err = compute_error_prob(cms, sample, n)\n",
    "\n",
    "    print(\"Average Error: \" + str(avg_err))\n",
    "    print(\"Maximum Error: \" + str(max_err))\n",
    "    print(\"Acceptable Threshold: \" + str(threshold))\n",
    "    print(\"Proportion of Errors Exceeding Threshold: \" + str(p))\n",
    "\n",
    "    fig, (f1, f2, f3) = plt.subplots(1,3)\n",
    "    fig.set_size_inches(15, 4)\n",
    "\n",
    "    f1.scatter(sample, err, label=\"Errors\")\n",
    "    f1.plot([min(sample), max(sample)], [threshold, threshold], color='red', label=\"Threshold\")\n",
    "    f1.legend()\n",
    "    f1.title.set_text(\"Scatterplot of Errors\")\n",
    "    f1.set(xlabel=\"Error\", ylabel=\"Data Point\")\n",
    "\n",
    "    f2.hist(sample)\n",
    "    f2.title.set_text(\"Distribution of Data\")\n",
    "    f2.set(ylabel=\"Count\", xlabel=\"Data Point\")\n",
    "\n",
    "    f3.hisat(err)\n",
    "    f3.title.set_text(\"Ditribution of errors\")\n",
    "    f3.set(ylabel=\"Count\", xlabel=\"Error Magnitude\")\n",
    "    fig.savefig(\"normal2.png\")\n",
    "    fig.show()\n",
    "\n",
    "def get_data_for_hist_errors(n, eps, delta, distribution):\n",
    "    n = n\n",
    "    threshold = eps * n\n",
    "\n",
    "    mean = 0\n",
    "    sd = 100\n",
    "    sample = generate_sample(eps, delta, distribution, n)\n",
    "\n",
    "    cms = CountMinSketch(eps, delta)\n",
    "    load_data(cms, sample)\n",
    "\n",
    "    p, avg_err, max_err, err = compute_error_prob(cms, sample, n)\n",
    "\n",
    "    print(\"Average Error: \" + str(avg_err))\n",
    "    print(\"Maximum Error: \" + str(max_err))\n",
    "    print(\"Acceptable Threshold: \" + str(threshold))\n",
    "    print(\"Proportion of Errors Exceeding Threshold: \" + str(p))\n",
    "\n",
    "    fig, (f1, f2, f3) = plt.subplots(1,3)\n",
    "    fig.set_size_inches(15, 4)\n",
    "\n",
    "    f1.scatter(sample, err, label=\"Errors\")\n",
    "    f1.plot([min(sample), max(sample)], [threshold, threshold], color='red', label=\"Threshold\")\n",
    "    f1.legend()\n",
    "    f1.title.set_text(\"Scatterplot of Errors\")\n",
    "    f1.set(xlabel=\"Error\", ylabel=\"Data Point\")\n",
    "\n",
    "    f2.hist(sample)\n",
    "    f2.title.set_text(\"Distribution of Data\")\n",
    "    f2.set(ylabel=\"Count\", xlabel=\"Data Point\")\n",
    "\n",
    "    f3.hist(err)\n",
    "    f3.title.set_text(\"Ditribution of errors\")\n",
    "    f3.set(ylabel=\"Count\", xlabel=\"Error Magnitude\")\n",
    "    fig.savefig(\"normal2.png\")\n",
    "    fig.show()"
   ]
  },
  {
   "cell_type": "code",
   "execution_count": 62,
   "metadata": {},
   "outputs": [
    {
     "data": {
      "application/vnd.jupyter.widget-view+json": {
       "model_id": "109b38138e744637bdb99fdce80cf583",
       "version_major": 2,
       "version_minor": 0
      },
      "text/plain": [
       "VBox(children=(interactive(children=(IntSlider(value=1000, description='n', max=2000, min=1), FloatSlider(valu…"
      ]
     },
     "metadata": {},
     "output_type": "display_data"
    }
   ],
   "source": [
    "sample = None\n",
    "\n",
    "opts = {\n",
    "    'title': \"Scatterplot of Errors\",\n",
    "  #  'aspect_ratio':\n",
    "    'ylabel': \"Error\",\n",
    "    'xlabel': \"Data Point\",\n",
    "   # 'xlim': (0, 50),\n",
    "    #'ylim': (0, 55),\n",
    "    #'animation_duration': 250,\n",
    "}\n",
    "\n",
    "nbi.scatter(generate_new_sample, get_y_errors, n=(1,2000), eps=(0.01,1, 0.01), delta=(0.01, 1, 0.01), distribution={'normal': \"normal\", 'zipf': 'zipf', 'uniform': 'uniform', 'exp':'exp', 'geometric':'geometric', 'lognorm':'lognorm'}, options=opts)\n"
   ]
  },
  {
   "cell_type": "code",
   "execution_count": 63,
   "metadata": {},
   "outputs": [
    {
     "data": {
      "application/vnd.jupyter.widget-view+json": {
       "model_id": "66b3ceb7efed4c4a9af970a1c6b48a56",
       "version_major": 2,
       "version_minor": 0
      },
      "text/plain": [
       "VBox(children=(interactive(children=(IntSlider(value=1000, description='n', max=2000, min=1), FloatSlider(valu…"
      ]
     },
     "metadata": {},
     "output_type": "display_data"
    }
   ],
   "source": [
    "\n",
    "opts = {\n",
    "    'title': \"Scatterplot of Errors\",\n",
    "  #  'aspect_ratio':\n",
    "    'ylabel': \"Error\",\n",
    "    'xlabel': \"Data Point\",\n",
    "   # 'xlim': (0, 50),\n",
    "    #'ylim': (0, 55),\n",
    "    #'animation_duration': 250,\n",
    "}\n",
    "nbi.hist(generate_new_sample, n=(1,2000), eps=(0.01,1, 0.01), delta=(0.01, 1, 0.01), distribution={'normal': \"normal\", 'zipf': 'zipf', 'uniform': 'uniform', 'exp':'exp', 'geometric':'geometric', 'lognorm':'lognorm'}, options=opts)\n",
    "\n",
    "\n",
    "\n"
   ]
  },
  {
   "cell_type": "code",
   "execution_count": 64,
   "metadata": {},
   "outputs": [
    {
     "data": {
      "application/vnd.jupyter.widget-view+json": {
       "model_id": "4dfc2cd20b3c4faaa16407007a616372",
       "version_major": 2,
       "version_minor": 0
      },
      "text/plain": [
       "interactive(children=(IntSlider(value=1000, description='n', max=2000, min=1), FloatSlider(value=0.5, descript…"
      ]
     },
     "metadata": {},
     "output_type": "display_data"
    },
    {
     "data": {
      "text/plain": [
       "<function __main__.get_data_for_hist_errors(n, eps, delta, distribution)>"
      ]
     },
     "execution_count": 64,
     "metadata": {},
     "output_type": "execute_result"
    }
   ],
   "source": [
    "sample = None\n",
    "\n",
    "opts = {\n",
    "    'title': \"Scatterplot of Errors\",\n",
    "  #  'aspect_ratio':\n",
    "    'ylabel': \"Error\",\n",
    "    'xlabel': \"Data Point\",\n",
    "   # 'xlim': (0, 50),\n",
    "    #'ylim': (0, 55),\n",
    "    #'animation_duration': 250,\n",
    "}\n",
    "\n",
    "interact(get_data_for_hist_errors, n=(1,2000), eps=(0.01,1, 0.01), delta=(0.01, 1, 0.01), distribution={'normal': \"normal\", 'zipf': 'zipf', 'uniform': 'uniform', 'exp':'exp', 'geometric':'geometric', 'lognorm':'lognorm'}, options=opts)\n"
   ]
  },
  {
   "cell_type": "code",
   "execution_count": 66,
   "metadata": {},
   "outputs": [],
   "source": [
    "def function(eps, delta, n, distribution):\n",
    "    eps = 0.01\n",
    "    delta = 0.05\n",
    "    n = 10000\n",
    "    threshold = eps * n\n",
    "\n",
    "    mean = 0\n",
    "    sd = 100\n",
    "    sample = generate_sample(n=n, dist='normal', loc=mean, scale=sd)\n",
    "\n",
    "    cms = CountMinSketch(eps, delta)\n",
    "    load_data(cms, sample)\n",
    "\n",
    "    p, avg_err, max_err, err = compute_error_prob(cms, sample, n)\n",
    "\n",
    "    print(\"Average Error: \" + str(avg_err))\n",
    "    print(\"Maximum Error: \" + str(max_err))\n",
    "    print(\"Acceptable Threshold: \" + str(threshold))\n",
    "    print(\"Proportion of Errors Exceeding Threshold: \" + str(p))\n",
    "\n",
    "    fig, (f1, f2, f3) = plt.subplots(1,3)\n",
    "    fig.set_size_inches(15, 4)\n",
    "\n",
    "    f1.scatter(sample, err, label=\"Errors\")\n",
    "    f1.plot([min(sample), max(sample)], [threshold, threshold], color='red', label=\"Threshold\")\n",
    "    f1.legend()\n",
    "    f1.title.set_text(\"Scatterplot of Errors\")\n",
    "    f1.set(xlabel=\"Error\", ylabel=\"Data Point\")\n",
    "\n",
    "    f2.hist(sample)\n",
    "    f2.title.set_text(\"Distribution of Data\")\n",
    "    f2.set(ylabel=\"Count\", xlabel=\"Data Point\")\n",
    "\n",
    "    f3.hist(err)\n",
    "    f3.title.set_text(\"Ditribution of errors\")\n",
    "    f3.set(ylabel=\"Count\", xlabel=\"Error Magnitude\")\n",
    "    fig.savefig(\"normal2.png\")\n",
    "    fig.show()"
   ]
  },
  {
   "cell_type": "code",
   "execution_count": 70,
   "metadata": {},
   "outputs": [
    {
     "data": {
      "application/vnd.jupyter.widget-view+json": {
       "model_id": "232748b3682c4d858d3889622efe01bd",
       "version_major": 2,
       "version_minor": 0
      },
      "text/plain": [
       "interactive(children=(FloatSlider(value=0.5, description='eps', max=1.0, min=0.01, step=0.01), FloatSlider(val…"
      ]
     },
     "metadata": {},
     "output_type": "display_data"
    },
    {
     "data": {
      "text/plain": [
       "<function __main__.function(eps, delta, n, distribution)>"
      ]
     },
     "execution_count": 70,
     "metadata": {},
     "output_type": "execute_result"
    }
   ],
   "source": [
    "interact(function, n=(1,2000), eps=(0.01,1, 0.01), delta=(0.01, 1, 0.01), distribution={'normal': \"normal\", 'zipf': 'zipf', 'uniform': 'uniform', 'exp':'exp', 'geometric':'geometric', 'lognorm':'lognorm'}, options=opts)\n"
   ]
  },
  {
   "cell_type": "code",
   "execution_count": null,
   "metadata": {},
   "outputs": [],
   "source": []
  }
 ],
 "metadata": {
  "kernelspec": {
   "display_name": "Python 3",
   "language": "python",
   "name": "python3"
  },
  "language_info": {
   "codemirror_mode": {
    "name": "ipython",
    "version": 3
   },
   "file_extension": ".py",
   "mimetype": "text/x-python",
   "name": "python",
   "nbconvert_exporter": "python",
   "pygments_lexer": "ipython3",
   "version": "3.7.2"
  }
 },
 "nbformat": 4,
 "nbformat_minor": 2
}
