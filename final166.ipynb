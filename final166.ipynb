{
 "cells": [
  {
   "cell_type": "code",
   "execution_count": 5,
   "metadata": {
    "colab": {},
    "colab_type": "code",
    "id": "h6uihjZsJVd1"
   },
   "outputs": [],
   "source": [
    "import numpy as np\n",
    "from matplotlib import pyplot as plt"
   ]
  },
  {
   "cell_type": "code",
   "execution_count": 6,
   "metadata": {
    "colab": {},
    "colab_type": "code",
    "id": "d285GeaR6qB6"
   },
   "outputs": [],
   "source": [
    "import math\n",
    "import numpy as np\n",
    "import hashlib\n",
    "import json "
   ]
  },
  {
   "cell_type": "code",
   "execution_count": 7,
   "metadata": {
    "colab": {},
    "colab_type": "code",
    "id": "DjukLsOE6rVJ"
   },
   "outputs": [],
   "source": [
    "class CountMinSketch:\n",
    "    def __init__(self, eps, delta):\n",
    "        self.eps = eps\n",
    "        self.delta = delta\n",
    "        self.w = math.ceil(np.exp(1) / eps)\n",
    "        self.d = math.ceil(np.log(1 / delta))\n",
    "        self.tables = np.zeros((self.d, self.w))\n",
    "        self.backup = {}\n",
    "\n",
    "    def compute_hash(self, value, table_no):\n",
    "        fn = hashlib.md5()\n",
    "        inp = str(value) + str(0) + str(table_no)\n",
    "        fn.update(inp.encode())\n",
    "        out = int(fn.hexdigest(), 16)\n",
    "        return out % self.w\n",
    "\n",
    "    def count(self, value):\n",
    "        if str(value) in self.backup: \n",
    "            self.backup[str(value)] = self.backup[str(value)] + 1\n",
    "        else:\n",
    "            self.backup[str(value)] = 1\n",
    "        for i in range(self.d):\n",
    "            j = self.compute_hash(value, i)\n",
    "            self.tables[i][j] = self.tables[i][j] + 1\n",
    "\n",
    "    def estimate(self, value):\n",
    "        ests = []\n",
    "        for i in range(self.d):\n",
    "            j = self.compute_hash(value, i)\n",
    "            ests.append(self.tables[i][j])\n",
    "        return min(ests)\n",
    "\n",
    "    def real_estimate(self, value):\n",
    "        if str(value) in self.backup: return self.backup[str(value)]\n",
    "        return -1\n",
    "\n",
    "    def compute_size(self):\n",
    "        size = 0\n",
    "        for key in self.backup:\n",
    "            size += abs(self.backup[key])\n",
    "        return size\n",
    "\n",
    "    def save_counts(self, count_filename='counts.txt', actual_filename='backups.txt'):\n",
    "        np.savetxt(count_filename, self.tables)\n",
    "        with open(actual_filename, 'w') as fp: json.dump(self.backup, fp)\n",
    "\n",
    "    def load_counts(self, count_filename='counts.txt', actual_filename='backups.txt'):\n",
    "        with open(actual_filename, 'r') as fp: \n",
    "            temp = json.load(fp)\n",
    "            self.backup = temp\n",
    "        self.tables = np.loadtxt(count_filename)"
   ]
  },
  {
   "cell_type": "code",
   "execution_count": 8,
   "metadata": {
    "colab": {
     "base_uri": "https://localhost:8080/",
     "height": 54
    },
    "colab_type": "code",
    "id": "A0oOqo3T6wFf",
    "outputId": "f7acfb7f-1b51-4704-f582-adcb02b880a0"
   },
   "outputs": [
    {
     "name": "stdout",
     "output_type": "stream",
     "text": [
      "{'1': 2, '2': 2, '3': 2, '4': 2, '5': 2, '6': 2, '7': 2, '8': 2, '9': 2, '10': 2, '11': 2, '12': 2, '13': 2, '14': 2, '15': 2, '16': 2, '17': 2, '18': 2, '19': 2, '20': 2, '21': 2, '22': 2, '23': 2, '24': 2, '25': 2, '26': 2, '27': 2, '28': 2, '29': 2, '30': 2, '31': 2, '32': 2, '33': 2, '34': 2, '35': 2, '36': 2, '37': 2, '38': 2, '39': 2, '40': 2, '41': 2, '42': 2, '43': 2, '44': 2, '45': 2, '46': 2, '47': 2, '48': 2, '49': 2, '50': 2, '51': 2, '52': 2, '53': 2, '54': 2, '55': 2, '56': 2, '57': 2, '58': 2, '59': 2, '60': 2, '61': 2, '62': 2, '63': 2, '64': 2, '65': 2, '66': 2, '67': 2, '68': 2, '69': 2, '70': 2, '71': 2, '72': 2, '73': 2, '74': 2, '75': 2, '76': 2, '77': 2, '78': 2, '79': 2, '80': 2, '81': 2, '82': 2, '83': 2, '84': 2, '85': 2, '86': 2, '87': 2, '88': 2, '89': 2, '90': 2, '91': 2, '92': 2, '93': 2, '94': 2, '95': 2, '96': 2, '97': 2, '98': 2, '99': 2}\n"
     ]
    }
   ],
   "source": [
    "cms = CountMinSketch(0.03, 0.05)\n",
    "for i in range(1, 100):\n",
    "  cms.count(i)\n",
    "  cms.count(i)\n",
    "print(cms.backup)"
   ]
  },
  {
   "cell_type": "code",
   "execution_count": 9,
   "metadata": {
    "colab": {},
    "colab_type": "code",
    "id": "XF1hVGvsOcdC"
   },
   "outputs": [],
   "source": [
    "import scipy.stats as stats"
   ]
  },
  {
   "cell_type": "code",
   "execution_count": 10,
   "metadata": {
    "colab": {},
    "colab_type": "code",
    "id": "gMmPiEExOkEU"
   },
   "outputs": [],
   "source": [
    "def generate_sample(n=1000, dist='uniform', loc=0, scale=10000, lambda_=5, s=1):\n",
    "  if dist == 'uniform':\n",
    "    float_sample = stats.uniform.rvs(loc, scale, n)\n",
    "    return [int(el) for el in float_sample]\n",
    "  if dist == 'zipf':\n",
    "    float_sample = stats.zipf.rvs(a, size=n)\n",
    "    return [int(el) for el in float_sample]\n",
    "  if dist == 'exp':\n",
    "    float_sample = planck.rvs(lambda_, size=n)\n",
    "    return [int(el) for el in float_sample]\n",
    "  if dist == 'lognorm':\n",
    "    float_sample = lognorm.rvs(s=s, size=n)\n",
    "    return [int(el) for el in float_sample]\n",
    "  if dist == 'geometric':\n",
    "    float_sample =  geom.rvs(p, size=n)\n",
    "    return [int(el) for el in float_sample]\n",
    "  elif dist == 'normal':\n",
    "    float_sample = stats.norm.rvs(loc, scale, n)\n",
    "    return [int(el) for el in float_sample]\n",
    "  else:\n",
    "    return -1"
   ]
  },
  {
   "cell_type": "code",
   "execution_count": 11,
   "metadata": {
    "colab": {},
    "colab_type": "code",
    "id": "KHamIwm2QVqn"
   },
   "outputs": [],
   "source": [
    "cms = CountMinSketch(0.03, 0.5)"
   ]
  },
  {
   "cell_type": "code",
   "execution_count": 12,
   "metadata": {
    "colab": {},
    "colab_type": "code",
    "id": "_CJT7CCjQpJc"
   },
   "outputs": [],
   "source": [
    "uniform_sample = generate_sample()\n",
    "for el in uniform_sample:\n",
    "  cms.count(el)"
   ]
  },
  {
   "cell_type": "code",
   "execution_count": 18,
   "metadata": {
    "colab": {},
    "colab_type": "code",
    "id": "yhps1WT_VNLC"
   },
   "outputs": [],
   "source": [
    "def compute_error_prob(cms, data, n):\n",
    "  err = []\n",
    "  for el in data:\n",
    "    err.append(cms.estimate(el) - cms.real_estimate(el))\n",
    "  avg_err = sum(err) / len(err)\n",
    "  max_err = max(err)\n",
    "  exceed = 0\n",
    "  for el in err:\n",
    "    if el > cms.eps * n:\n",
    "      exceed += 1\n",
    "  return exceed / len(err), err"
   ]
  },
  {
   "cell_type": "code",
   "execution_count": 19,
   "metadata": {
    "colab": {},
    "colab_type": "code",
    "id": "E8780hl2WFs_"
   },
   "outputs": [],
   "source": [
    "def load_data(cms, data):\n",
    "  for el in data:\n",
    "    cms.count(el)"
   ]
  },
  {
   "cell_type": "code",
   "execution_count": 20,
   "metadata": {
    "colab": {},
    "colab_type": "code",
    "id": "XYjH-xvDWKrR"
   },
   "outputs": [],
   "source": [
    "def run_experiment():\n",
    "  n = 1000\n",
    "  eps = 0.01\n",
    "  min_delta = 0.01\n",
    "  max_delta = 0.1\n",
    "  deltas = np.linspace(min_delta, max_delta, 10).tolist()\n",
    "  # deltas = [0.05, 0.1, 0.15, 0.2, 0.25, 0.3, 0.35, 0.4, 0.45, 0.5, 0.55, 0.6, 0.65, 0.7, 0.75, 0.8, 0.85, 0.9, 0.95, 1]\n",
    "  ps = []\n",
    "  for delta in deltas:\n",
    "    probs = 0\n",
    "    for i in range(3):\n",
    "      cms = CountMinSketch(eps, delta)\n",
    "      print(cms.w)\n",
    "      dt = generate_sample(n)\n",
    "      load_data(cms, dt)\n",
    "      p, err = compute_error_prob(cms, dt, n)\n",
    "      print(err)\n",
    "      probs += p\n",
    "    probs /= 3\n",
    "    ps.append(probs)\n",
    "  return deltas, ps, err\n",
    "\n"
   ]
  },
  {
   "cell_type": "code",
   "execution_count": 21,
   "metadata": {},
   "outputs": [
    {
     "name": "stdout",
     "output_type": "stream",
     "text": [
      "2719\n",
      "[-12, 2, -7, 6, -3, 5, 1, 3, -4, 2]\n"
     ]
    },
    {
     "ename": "ValueError",
     "evalue": "not enough values to unpack (expected 4, got 2)",
     "output_type": "error",
     "traceback": [
      "\u001b[0;31m---------------------------------------------------------------------------\u001b[0m",
      "\u001b[0;31mValueError\u001b[0m                                Traceback (most recent call last)",
      "\u001b[0;32m<ipython-input-21-a517f4be344e>\u001b[0m in \u001b[0;36m<module>\u001b[0;34m\u001b[0m\n\u001b[1;32m      8\u001b[0m \u001b[0mprint\u001b[0m\u001b[0;34m(\u001b[0m\u001b[0mdt\u001b[0m\u001b[0;34m)\u001b[0m\u001b[0;34m\u001b[0m\u001b[0;34m\u001b[0m\u001b[0m\n\u001b[1;32m      9\u001b[0m \u001b[0mload_data\u001b[0m\u001b[0;34m(\u001b[0m\u001b[0mcms\u001b[0m\u001b[0;34m,\u001b[0m \u001b[0mdt\u001b[0m\u001b[0;34m)\u001b[0m\u001b[0;34m\u001b[0m\u001b[0;34m\u001b[0m\u001b[0m\n\u001b[0;32m---> 10\u001b[0;31m \u001b[0mp\u001b[0m\u001b[0;34m,\u001b[0m \u001b[0mavg_err\u001b[0m\u001b[0;34m,\u001b[0m \u001b[0mmax_err\u001b[0m\u001b[0;34m,\u001b[0m \u001b[0merr\u001b[0m \u001b[0;34m=\u001b[0m \u001b[0mcompute_error_prob\u001b[0m\u001b[0;34m(\u001b[0m\u001b[0mcms\u001b[0m\u001b[0;34m,\u001b[0m \u001b[0mdt\u001b[0m\u001b[0;34m,\u001b[0m \u001b[0mn\u001b[0m\u001b[0;34m)\u001b[0m\u001b[0;34m\u001b[0m\u001b[0;34m\u001b[0m\u001b[0m\n\u001b[0m\u001b[1;32m     11\u001b[0m \u001b[0mprint\u001b[0m\u001b[0;34m(\u001b[0m\u001b[0mp\u001b[0m\u001b[0;34m)\u001b[0m\u001b[0;34m\u001b[0m\u001b[0;34m\u001b[0m\u001b[0m\n",
      "\u001b[0;31mValueError\u001b[0m: not enough values to unpack (expected 4, got 2)"
     ]
    }
   ],
   "source": [
    "eps = 0.001\n",
    "delta = 0.05\n",
    "n = 10\n",
    "\n",
    "cms = CountMinSketch(eps, delta)\n",
    "print(cms.w)\n",
    "dt = generate_sample(n, dist='normal', loc=0, scale=10)\n",
    "print(dt)\n",
    "load_data(cms, dt)\n",
    "p, avg_err, max_err, err = compute_error_prob(cms, dt, n)\n",
    "print(p)"
   ]
  },
  {
   "cell_type": "code",
   "execution_count": 22,
   "metadata": {
    "colab": {
     "base_uri": "https://localhost:8080/",
     "height": 265
    },
    "colab_type": "code",
    "id": "e0HVqsMNhTQp",
    "outputId": "fbfc8cbd-b4a7-407b-d0f3-1ee27e98d326"
   },
   "outputs": [
    {
     "data": {
      "image/png": "[encoded data removed]",
      "text/plain": [
       "<Figure size 432x288 with 1 Axes>"
      ]
     },
     "metadata": {
      "needs_background": "light"
     },
     "output_type": "display_data"
    }
   ],
   "source": [
    "# VISUALIZE ERROR PROBABILITY VS DELTA\n",
    "\n",
    "# compute empirical probability of error exceeding the threshold\n",
    "def compute_error_prob(cms, data, n):\n",
    "  err = []\n",
    "  for el in data:\n",
    "    err.append(cms.estimate(el) - cms.real_estimate(el))\n",
    "  avg_err = sum(err) / len(err)\n",
    "  max_err = max(err)\n",
    "  exceed = 0\n",
    "  for el in err:\n",
    "    if el > cms.eps * n:\n",
    "      exceed += 1\n",
    "  p = exceed / len(err)\n",
    "  return p, avg_err, max_err, err\n",
    "\n",
    "# run experiments on 10 values of delta interpolated between (min_delta, max_delta) and compute array of corresponding error probabilities\n",
    "def error_prob_vs_delta(n=100000, eps=0.4, min_delta=0.01, max_delta=0.1):\n",
    "  deltas = np.linspace(min_delta, max_delta, 10).tolist()\n",
    "  # deltas = [0.05, 0.1, 0.15, 0.2, 0.25, 0.3, 0.35, 0.4, 0.45, 0.5, 0.55, 0.6, 0.65, 0.7, 0.75, 0.8, 0.85, 0.9, 0.95, 1]\n",
    "  ps = []\n",
    "  for delta in deltas:\n",
    "    probs = 0\n",
    "    # Average probabilities across 3 trials\n",
    "    for i in range(3):\n",
    "      cms = CountMinSketch(eps, delta)\n",
    "      dt = generate_sample(n)\n",
    "      load_data(cms, dt)\n",
    "      p, avg_err, max_err, err = compute_error_prob(cms, dt, n)\n",
    "      probs += p\n",
    "    probs /= 3\n",
    "    ps.append(probs)\n",
    "  return deltas, ps\n",
    "\n",
    "# graphing helper function\n",
    "def graph_error_prob_vs_delta(deltas, ps, filename=\"p_vs_delta.png\"):\n",
    "  plt.scatter(deltas, ps)\n",
    "  plt.show()\n",
    "\n",
    "# actual code to run experiment:\n",
    "deltas, ps = error_prob_vs_delta()\n",
    "graph_error_prob_vs_delta(deltas, ps)"
   ]
  },
  {
   "cell_type": "code",
   "execution_count": 23,
   "metadata": {
    "colab": {
     "base_uri": "https://localhost:8080/",
     "height": 333
    },
    "colab_type": "code",
    "id": "__raxykvnDWY",
    "outputId": "145d4fc7-dec1-446b-96f0-2214386e037a"
   },
   "outputs": [
    {
     "name": "stdout",
     "output_type": "stream",
     "text": [
      "Average Error: 2.06\n",
      "Maximum Error: 6.0\n",
      "Acceptable Threshold: 10.0\n",
      "Proportion of Errors Exceeding Threshold: 0.0\n"
     ]
    },
    {
     "data": {
      "image/png": "[encoded data removed]",
      "text/plain": [
       "<Figure size 432x288 with 1 Axes>"
      ]
     },
     "metadata": {
      "needs_background": "light"
     },
     "output_type": "display_data"
    }
   ],
   "source": [
    "# VISUALIZE HOW ERROR DISTRIBUTION CHANGES WITH EPS, DELTA, N ON UNIFORM DATA\n",
    "eps = 0.01\n",
    "delta = 0.05\n",
    "n = 1000\n",
    "threshold = eps * n\n",
    "sample = generate_sample(n=n)\n",
    "\n",
    "cms = CountMinSketch(eps, delta)\n",
    "load_data(cms, sample)\n",
    "\n",
    "p, avg_err, max_err, err = compute_error_prob(cms, sample, n)\n",
    "\n",
    "print(\"Average Error: \" + str(avg_err))\n",
    "print(\"Maximum Error: \" + str(max_err))\n",
    "print(\"Acceptable Threshold: \" + str(threshold))\n",
    "print(\"Proportion of Errors Exceeding Threshold: \" + str(p))\n",
    "\n",
    "plt.scatter(sample, err)\n",
    "plt.plot([min(sample), max(sample)], [threshold, threshold], color='red')\n",
    "plt.show()"
   ]
  },
  {
   "cell_type": "code",
   "execution_count": 24,
   "metadata": {
    "colab": {
     "base_uri": "https://localhost:8080/",
     "height": 309
    },
    "colab_type": "code",
    "id": "dBEn8e2YpmFt",
    "outputId": "f269ad90-8bd8-483d-b07f-0dc76ae0c04c"
   },
   "outputs": [
    {
     "name": "stdout",
     "output_type": "stream",
     "text": [
      "Average Error: 2.145\n",
      "Maximum Error: 7.0\n",
      "Acceptable Threshold: 10.0\n",
      "Proportion of Errors Exceeding Threshold: 0.0\n"
     ]
    },
    {
     "name": "stderr",
     "output_type": "stream",
     "text": [
      "/Library/Frameworks/Python.framework/Versions/3.7/lib/python3.7/site-packages/ipykernel_launcher.py:35: UserWarning: Matplotlib is currently using module://ipykernel.pylab.backend_inline, which is a non-GUI backend, so cannot show the figure.\n"
     ]
    },
    {
     "data": {
      "image/png": "[encoded data removed]",
      "text/plain": [
       "<Figure size 1080x216 with 3 Axes>"
      ]
     },
     "metadata": {
      "needs_background": "light"
     },
     "output_type": "display_data"
    }
   ],
   "source": [
    "# VISUALIZE HOW ERROR CHANGES BY COMPRESSING THE NORMAL DISTRIBUTION\n",
    "eps = 0.01\n",
    "delta = 0.05\n",
    "n = 1000\n",
    "threshold = eps * n\n",
    "\n",
    "mean = 0\n",
    "sd = 1000000 \n",
    "sample = generate_sample(n=n, dist='normal', loc=mean, scale=sd)\n",
    "\n",
    "cms = CountMinSketch(eps, delta)\n",
    "load_data(cms, sample)\n",
    "\n",
    "p, avg_err, max_err, err = compute_error_prob(cms, sample, n)\n",
    "\n",
    "print(\"Average Error: \" + str(avg_err))\n",
    "print(\"Maximum Error: \" + str(max_err))\n",
    "print(\"Acceptable Threshold: \" + str(threshold))\n",
    "print(\"Proportion of Errors Exceeding Threshold: \" + str(p))\n",
    "\n",
    "fig, (f1, f2, f3) = plt.subplots(1,3)\n",
    "fig.set_size_inches(15, 3)\n",
    "\n",
    "f1.scatter(sample, err, label=\"Errors\")\n",
    "f1.plot([min(sample), max(sample)], [threshold, threshold], color='red', label=\"Threshold\")\n",
    "f1.legend()\n",
    "f1.title.set_text(\"Scatterplot of Errors\")\n",
    "f1.set(xlabel=\"Error\", ylabel=\"Data Point\")\n",
    "f2.hist(sample)\n",
    "f2.title.set_text(\"Distribution of Data\")\n",
    "f2.set(ylabel=\"Count\", xlabel=\"Data Point\")\n",
    "f3.hist(err)\n",
    "f3.title.set_text(\"Ditribution of errors\")\n",
    "f3.set(ylabel=\"Count\", xlabel=\"Error Magnitude\")\n",
    "fig.show()"
   ]
  },
  {
   "cell_type": "code",
   "execution_count": 25,
   "metadata": {
    "colab": {
     "base_uri": "https://localhost:8080/",
     "height": 225
    },
    "colab_type": "code",
    "id": "BIJMH0gpsd95",
    "outputId": "40146cd5-5b2a-4d48-fad8-43f0dcb9fd85"
   },
   "outputs": [
    {
     "data": {
      "image/png": "[encoded data removed]",
      "text/plain": [
       "<Figure size 1080x216 with 3 Axes>"
      ]
     },
     "metadata": {
      "needs_background": "light"
     },
     "output_type": "display_data"
    }
   ],
   "source": [
    "# Plot Average Error vs. SD\n",
    "eps = 0.01\n",
    "delta = 0.05\n",
    "n = 1000\n",
    "threshold = eps * n\n",
    "\n",
    "mean=0\n",
    "min_sd=1\n",
    "max_sd=100\n",
    "\n",
    "def error_vs_sd(eps=0.01, delta=0.05, n=1000, mean=0, min_sd=50, max_sd=500):\n",
    "  sds = np.linspace(min_sd, max_sd).tolist()\n",
    "  avgs = []\n",
    "  maxs = []\n",
    "  ps = []\n",
    "\n",
    "  for sd in sds:\n",
    "    sample = generate_sample(n=1000, dist='normal', loc=mean, scale=sd)\n",
    "    cms = CountMinSketch(eps, delta)\n",
    "    load_data(cms, sample)\n",
    "    p, avg_err, max_err, err = compute_error_prob(cms, sample, n)\n",
    "    avgs.append(avg_err)\n",
    "    maxs.append(max_err)\n",
    "    ps.append(p)\n",
    "  \n",
    "  threshold = eps * n\n",
    "  return sds, avgs, maxs, ps, threshold\n",
    "\n",
    "# actual code\n",
    "sds, avgs, maxs, ps, threshold = error_vs_sd(eps, delta, n, mean, min_sd, max_sd)\n",
    "fig, (f1, f2, f3) = plt.subplots(1, 3)\n",
    "fig.set_size_inches(15, 3)\n",
    "f1.scatter(sds, avgs)\n",
    "f1.plot([min(sds), max(sds)], [threshold, threshold], color='red')\n",
    "f1.set(xlabel=\"Standard Deviation\", ylabel=\"Average Error\")\n",
    "f2.scatter(sds, maxs)\n",
    "f2.plot([min(sds), max(sds)], [threshold, threshold], color='red')\n",
    "f2.set(ylabel=\"Maximum Error\", xlabel=\"Standard Deviation\")\n",
    "f3.scatter(sds, ps)\n",
    "f3.plot([min(sds), max(sds)], [delta, delta], color='red')\n",
    "f3.set(ylabel=\"Proportion of Intolerable Errors\", xlabel=\"Standard Deviation\")\n",
    "plt.show()\n"
   ]
  },
  {
   "cell_type": "code",
   "execution_count": null,
   "metadata": {},
   "outputs": [],
   "source": []
  }
 ],
 "metadata": {
  "colab": {
   "collapsed_sections": [],
   "name": "final166.ipynb",
   "provenance": []
  },
  "kernelspec": {
   "display_name": "Python 3",
   "language": "python",
   "name": "python3"
  },
  "language_info": {
   "codemirror_mode": {
    "name": "ipython",
    "version": 3
   },
   "file_extension": ".py",
   "mimetype": "text/x-python",
   "name": "python",
   "nbconvert_exporter": "python",
   "pygments_lexer": "ipython3",
   "version": "3.7.2"
  }
 },
 "nbformat": 4,
 "nbformat_minor": 1
}
