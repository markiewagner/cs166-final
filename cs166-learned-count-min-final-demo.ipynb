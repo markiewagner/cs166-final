{
 "cells": [
  {
   "cell_type": "code",
   "execution_count": 1,
   "metadata": {},
   "outputs": [],
   "source": [
    "!pip install --upgrade pip --quiet\n",
    "!pip3 install nbinteract --quiet \n",
    "!pip3 install scipy --quiet\n",
    "!pip3 install sklearn --quiet\n",
    "from demo_utils import *\n",
    "import nbinteract as nbi\n",
    "import_all()"
   ]
  },
  {
   "cell_type": "markdown",
   "metadata": {},
   "source": [
    "# Learned Count-Min Structures\n",
    "##### By Markie Wagner, Ankush Swarnakar, Hashem Elezabi, and Elena Berman\n",
    "It’s easy to walk away from this paper and think: “Huh, ML can replace anything.” But think more critically about the fundamental ideas that the authors introduced. While ML is ubiquitous throughout their work, two tangible takeaways are:\n",
    "Use data probability distributions to optimize data structures\n",
    "Use recursive models & auxiliary structures to optimize data structures\n",
    "Let’s explore these ideas a bit further. The original paper focuses mainly on indexing structures, like B-Trees, Hash Maps, and Bloom Filters. Since we plan to investigate the effects of probability distributions on these structures, let’s take a deep-dive into a probabilistic structure instead — the Count-Min Sketch."
   ]
  },
  {
   "cell_type": "markdown",
   "metadata": {},
   "source": [
    "# Begin Demo"
   ]
  },
  {
   "cell_type": "markdown",
   "metadata": {},
   "source": [
    "## Count-Min Sketch estimates across distributions \n",
    "The plots below shows a scatterplot of errors with data points (left), the distribution of data (center), and the distribution of errors (right). Again, we can see that the Count-Min Sketch gives us decent estimates; none of the errors exceed the threshold, which is excellent! But interestingly, by converting to a normal distribution, our average error almost halved, from 20.154 to 11.4482, and our max error shot up by 12."
   ]
  },
  {
   "cell_type": "code",
   "execution_count": null,
   "metadata": {
    "code_folding": []
   },
   "outputs": [],
   "source": [
    "opts1 = {\n",
    "    'title': \"Scatterplot of Errors\",\n",
    "    'ylabel': \"Error\",\n",
    "    'xlabel': \"Data Point\",\n",
    "    'ylim': (0, 500)}\n",
    "\n",
    "nbi.scatter(generate_hist_sample, get_y_errors, n=(1,2000), eps=(0.01,1, 0.01), delta=(0.01, 1, 0.01), distribution={'normal': \"normal\", 'zipf': 'zipf', 'uniform': 'uniform', 'lognorm':'lognorm'}, options=opts1)\n"
   ]
  },
  {
   "cell_type": "code",
   "execution_count": null,
   "metadata": {
    "code_folding": [
     0
    ],
    "scrolled": false
   },
   "outputs": [],
   "source": [
    "opts2 = {\n",
    "    'title': \"Distribution of Data\",\n",
    "    'ylabel': \"Count\",\n",
    "    'xlabel': \"Data Point\",}\n",
    "\n",
    "nbi.hist(generate_hist_sample, n=(1,10000), distribution={'normal': \"normal\", 'zipf': 'zipf', 'uniform': 'uniform', 'lognorm':'lognorm'}, options=opts2)\n"
   ]
  },
  {
   "cell_type": "code",
   "execution_count": null,
   "metadata": {
    "code_folding": [
     0
    ]
   },
   "outputs": [],
   "source": [
    "opts3 = {\n",
    "    'title': \"Distribution of errors\",\n",
    "    'ylabel': \"Count\",\n",
    "    'xlabel': \"Error Magnitude\",}\n",
    "nbi.hist(get_data_for_hist_errors, n=(1,2000), eps=(0.01,1, 0.01), delta=(0.01, 1, 0.01), distribution={'normal': \"normal\", 'zipf': 'zipf', 'uniform': 'uniform', 'lognorm':'lognorm'}, options=opts3)\n"
   ]
  },
  {
   "cell_type": "markdown",
   "metadata": {},
   "source": [
    "# How does data spread affect our errors?\n",
    "Let’s take this a step further and scope out the exact effect on standard deviation (a mathematical proxy for the “spread” of the data) on the errors. Let’s investigate what happens when we sample n = 1000 integers from a normal distribution with a mean of μ = 0. We vary the standard deviation between 1 and 100 to understand how spreading the distribution affects errors."
   ]
  },
  {
   "cell_type": "code",
   "execution_count": null,
   "metadata": {
    "code_folding": [
     0
    ]
   },
   "outputs": [],
   "source": [
    "opts4 = {\n",
    "    'title': \"Scatterplot of Errors\",\n",
    "    'ylabel': \"Error\",\n",
    "    'xlabel': \"Data Point\",\n",
    "    'ylim': (0, 500),}\n",
    "print(\"Vary the standard distribution to see how the errors change!\")\n",
    "\n",
    "nbi.scatter(get_sample_sd, get_y_errors_sd, n=(1,2000), eps=(0.01,1, 0.01), delta=(0.01, 1, 0.01), sd=(0.01, 1000, 10), options=opts4)\n"
   ]
  },
  {
   "cell_type": "code",
   "execution_count": null,
   "metadata": {
    "code_folding": [
     0
    ]
   },
   "outputs": [],
   "source": [
    "opts5 = {\n",
    "    'title': \"Distribution of errors\",\n",
    "    'ylabel': \"Count\",\n",
    "    'xlabel': \"Error Magnitude\",}\n",
    "print(\"Vary the standard distribution to see how error disribution change!\")\n",
    "nbi.hist(get_data_for_hist_errors_sd, n=(1,2000), eps=(0.01,1, 0.01), delta=(0.01, 1, 0.01),sd=(0.01, 1000, 10),  options=opts5)\n"
   ]
  },
  {
   "cell_type": "markdown",
   "metadata": {},
   "source": [
    "# Optimization #1: The Learned Count-Min Sketch\n",
    "\n",
    "One approach is simply to treat the heavy hitters and non-heavy-hitters separately. This is where we can motivate our data structure design with two ideas from the original Learned Index Structures paper –– recursive models and auxiliary structures.\n"
   ]
  },
  {
   "cell_type": "code",
   "execution_count": null,
   "metadata": {
    "code_folding": [
     0
    ]
   },
   "outputs": [],
   "source": [
    "opts = {\n",
    "    'title': \"Count-Min Sketch\",\n",
    "    'ylabel': \"Frequency\",\n",
    "    'xlabel': \"Error\",}\n",
    "print(\"Vary the standard distribution to see how error disribution change!\")\n",
    "nbi.hist(opt_1_normal, sd=(0, 1000, 10),  options=opts)\n"
   ]
  },
  {
   "cell_type": "code",
   "execution_count": null,
   "metadata": {
    "code_folding": [
     0
    ]
   },
   "outputs": [],
   "source": [
    "opts = {\n",
    "    'title': \"Learned Count-Min Sketch\",\n",
    "    'ylabel': \"Frequency\",\n",
    "    'xlabel': \"Error\",}\n",
    "print(\"Vary the standard distribution to see how error disribution change!\")\n",
    "nbi.hist(opt_1_learned, sd=(0, 1000, 10),  options=opts)\n"
   ]
  },
  {
   "cell_type": "markdown",
   "metadata": {},
   "source": [
    "## Optimization #2: Rules Count-Min Sketch\n",
    "Let’s take it a step even further. Why do we need machine-learning anyways? What if we know the data distribution so well that we know exactly which elements are going to be heavy hitters?\n",
    "\n",
    "Suppose you’re Jeff Dean on a regular Tuesday afternoon and you think to yourself — “I wonder what are the frequencies of different search queries on Google for 2020!” Maybe you have data from 2019 on the most frequent search terms. You know 2020 data is likely to be close to that of 2019 (barring a pandemic, among other things :/), so you treat the most frequent queries from 2019 as heavy hitters. Instead of learning what the heavy-hitters are, we use a rules-based approach.\n",
    "\n",
    "How do we simulate this concept without using ML? Fundamentally, any rules-based approach for determining will give a yes/no answer to whether a given element is a heavy hitter. To emulate this, we can construct a set of data points that will be heavy hitters based on “rules.” Our “rule” is: if the element is within the top p proportion of counts in the data set, it’s a heavy hitter. We can thus iterate through our data set, add all heavy-hitters to a set, and then feed that set into our Sketch constructor. Now, instead of inferring whether an element is a heavy hitter, we can simply check its presence within our set."
   ]
  },
  {
   "cell_type": "code",
   "execution_count": null,
   "metadata": {
    "scrolled": false
   },
   "outputs": [],
   "source": [
    "opts = {\n",
    "    'title': \"Rule Based Count-Min Sketch\",\n",
    "    'ylabel': \"Frequency\",\n",
    "    'xlabel': \"Error\",}\n",
    "print(\"Vary the standard distribution to see how error disribution change!\")\n",
    "nbi.hist(opt_2, sd=(0, 1000, 10),  options=opts)\n"
   ]
  }
 ],
 "metadata": {
  "kernelspec": {
   "display_name": "Python 3",
   "language": "python",
   "name": "python3"
  },
  "language_info": {
   "codemirror_mode": {
    "name": "ipython",
    "version": 3
   },
   "file_extension": ".py",
   "mimetype": "text/x-python",
   "name": "python",
   "nbconvert_exporter": "python",
   "pygments_lexer": "ipython3",
   "version": "3.7.2"
  }
 },
 "nbformat": 4,
 "nbformat_minor": 2
}
